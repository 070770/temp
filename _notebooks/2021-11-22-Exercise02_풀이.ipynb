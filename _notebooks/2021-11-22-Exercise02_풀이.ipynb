{
 "cells": [
  {
   "cell_type": "markdown",
   "metadata": {},
   "source": [
    "# \"Exercise02\"\n",
    "> \"문제풀이\"\n",
    "\n",
    "- toc: true\n",
    "- branch: master\n",
    "- badges: true\n",
    "- comments: true\n",
    "- author: 070770\n",
    "- categories: [크롤링, Python]"
   ]
  },
  {
   "cell_type": "code",
   "execution_count": 1,
   "metadata": {},
   "outputs": [
    {
     "name": "stdout",
     "output_type": "stream",
     "text": [
      "Do it! 점프 투 파이썬 16,920원 9.6\n",
      "혼자 공부하는 머신러닝+딥러닝 23,400원 10.0\n",
      "Do it! 점프 투 파이썬 + Do it! 파이썬 생활 프로그래밍 34,920원 9.6\n",
      "파이썬 코딩의 기술(개정2판) 28,800원 9.6\n",
      "Do it! 자료구조와 함께 배우는 알고리즘 입문 : 파이썬 편 19,800원 9.6\n",
      "Do it! 점프 투 파이썬 + Do it! 자료구조와 함께 배우는 알고리즘 입문 : 파이썬 편 + Do it! 파이썬 생활 프로그래밍 54,720원 9.6\n",
      "Do it! 점프 투 파이썬 + Do it! 첫 파이썬  29,520원 9.6\n",
      "Do it! 첫 파이썬 12,600원 9.7\n",
      "파이썬 증권 데이터 분석  28,800원 9.6\n",
      "쉽게 따라 만드는 파이썬 주식 자동매매 시스템 25,200원 9.6\n",
      "모두의 인공지능 with 파이썬 19,800원 10.0\n"
     ]
    }
   ],
   "source": [
    "# package import\n",
    "from selenium import webdriver\n",
    "from selenium.webdriver.common.by import By\n",
    "from selenium.webdriver.common.keys import Keys\n",
    "from bs4 import BeautifulSoup\n",
    "import requests\n",
    "\n",
    "url = 'http://www.yes24.com/Main/default.aspx'\n",
    "driver = webdriver.Chrome() #  \n",
    "driver.get(url)\n",
    "\n",
    "elem = driver.find_element(By.ID, 'query')\n",
    "elem.send_keys('파이썬')\n",
    "\n",
    "# 검색 버튼 찾기\n",
    "elem = driver.find_element(By.XPATH, '//*[@id=\"yesSForm\"]/fieldset/span[2]/button')\n",
    "# elem.send_keys(Keys.ENTER)\n",
    "# 검색 버튼 찾은거 클릭\n",
    "elem.click()\n",
    "\n",
    "# 데이터 가져오기\n",
    "soup = BeautifulSoup(driver.page_source, 'lxml') # parsing\n",
    "\n",
    "book_list = soup.find('ul', attrs={'id': 'yesSchList'})\n",
    "# 'ul' -> 책 데이터 전체 다 들어있음\n",
    "books = book_list.find_all('li')\n",
    "# 'li' -> 각 책별 데이터 포함\n",
    "\n",
    "for i,  book in enumerate(books) : \n",
    "    title = book.find('a', attrs={'class' : 'gd_name'})\n",
    "    price = book.find('strong', attrs={'class' : 'txt_num'})\n",
    "    \n",
    "    rating = book.select('span.rating_grade em')\n",
    "    # select -> tag명, class 명 동시에 쓸 수 있음\n",
    "    if not rating : continue\n",
    "    # 별점 -> 소수점 포함한 실수로 float으로 감싸기\n",
    "    if float(rating[0].get_text()) < 9.6 : continue\n",
    "        \n",
    "    print(title.get_text(), price.get_text(), rating[0].get_text())"
   ]
  }
 ],
 "metadata": {
  "kernelspec": {
   "display_name": "Python 3",
   "language": "python",
   "name": "python3"
  },
  "language_info": {
   "codemirror_mode": {
    "name": "ipython",
    "version": 3
   },
   "file_extension": ".py",
   "mimetype": "text/x-python",
   "name": "python",
   "nbconvert_exporter": "python",
   "pygments_lexer": "ipython3",
   "version": "3.8.8"
  },
  "toc": {
   "base_numbering": 1,
   "nav_menu": {},
   "number_sections": true,
   "sideBar": true,
   "skip_h1_title": false,
   "title_cell": "Table of Contents",
   "title_sidebar": "Contents",
   "toc_cell": false,
   "toc_position": {},
   "toc_section_display": true,
   "toc_window_display": false
  },
  "varInspector": {
   "cols": {
    "lenName": 16,
    "lenType": 16,
    "lenVar": 40
   },
   "kernels_config": {
    "python": {
     "delete_cmd_postfix": "",
     "delete_cmd_prefix": "del ",
     "library": "var_list.py",
     "varRefreshCmd": "print(var_dic_list())"
    },
    "r": {
     "delete_cmd_postfix": ") ",
     "delete_cmd_prefix": "rm(",
     "library": "var_list.r",
     "varRefreshCmd": "cat(var_dic_list()) "
    }
   },
   "types_to_exclude": [
    "module",
    "function",
    "builtin_function_or_method",
    "instance",
    "_Feature"
   ],
   "window_display": false
  }
 },
 "nbformat": 4,
 "nbformat_minor": 4
}
