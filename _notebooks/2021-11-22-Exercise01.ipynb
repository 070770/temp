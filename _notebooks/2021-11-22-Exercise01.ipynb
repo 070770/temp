{
 "cells": [
  {
   "cell_type": "markdown",
   "id": "a4b9e4c2",
   "metadata": {},
   "source": [
    "# \"Exercise01\"\n",
    "> \"문제풀이\"\n",
    "\n",
    "- toc: true\n",
    "- branch: master\n",
    "- badges: true\n",
    "- comments: true\n",
    "- author: 070770\n",
    "- categories: [크롤링, Python]"
   ]
  },
  {
   "cell_type": "markdown",
   "id": "a35d380a",
   "metadata": {},
   "source": [
    "# [연습-1]"
   ]
  },
  {
   "cell_type": "markdown",
   "id": "1557dc1c",
   "metadata": {},
   "source": [
    "* 1) 멜론 사이트에서 국내 최신곡 10위까지의 정보를\n",
    "노래제목, 가수, 앨범, 좋아요 수를 출력하시오"
   ]
  },
  {
   "cell_type": "code",
   "execution_count": null,
   "id": "8a1c4686",
   "metadata": {},
   "outputs": [],
   "source": [
    "import requests\n",
    "from bs4 import BeautifulSoup\n",
    "\n",
    "URL = \"https://www.melon.com/new/index.htm\"\n",
    "headers = {'User-Agent' : 'Mozilla/5.0 (Windows NT 10.0; Win64; x64) AppleWebKit/537.36 (KHTML, like Gecko) Chrome/95.0.4638.69 Safari/537.36'}\n",
    "\n",
    "response = requests.get(URL, headers = headers)\n",
    "response.raise_for_status()\n",
    "soup = BeautifulSoup(response.text.replace(\"\\n\",\"\"), \"lxml\")"
   ]
  },
  {
   "cell_type": "code",
   "execution_count": null,
   "id": "a403497b",
   "metadata": {
    "scrolled": false
   },
   "outputs": [],
   "source": [
    "temp = soup.find_all('div', attrs = {'class':'wrap_song_info'})\n",
    "\n",
    "\n",
    "\n",
    "for i in range(20):\n",
    "    if i % 2 == 0:\n",
    "        song = temp[i].find_all('div',attrs = {'class':'ellipsis rank01'})\n",
    "        singer = temp[i].find_all('div',attrs = {'class':'ellipsis rank02'})\n",
    "        singer_name = temp[i].find_all('span',attrs = {'class':'checkEllipsis'})\n",
    "        album = temp[int(i/2+1)].find_all('div',attrs = {'class':'ellipsis rank03'})\n",
    "        \n",
    "        for j in range(len(song)):\n",
    "            song_title = song[j].get_text()\n",
    "            s_n = singer_name[j].get_text()\n",
    "            \n",
    "            for k in range(len(song)):\n",
    "                s_n = singer_name[k].get_text()\n",
    "        \n",
    "        print(int((i/2+1)),':',song_title,\"<\"+s_n+\">\",\"앨범명:\")\n",
    "        \n",
    "    else:\n",
    "        continue\n",
    "\n"
   ]
  },
  {
   "cell_type": "code",
   "execution_count": null,
   "id": "13c25f84",
   "metadata": {
    "scrolled": false
   },
   "outputs": [],
   "source": [
    "temp = soup.find_all('div', attrs = {'class':'wrap_song_info'})\n",
    "album = temp[11].find_all('div',attrs = {'class':'ellipsis rank03'})\n",
    "ab = album[0].get_text()\n",
    "print(ab)\n",
    "\n",
    "#ab = album[0].find_all\n",
    "\n",
    "# singer_name = temp[0].find_all('span',attrs = {'class':'checkEllipsis'})\n",
    "# for i in range(20):\n",
    "#     singer = temp[i].find_all('div',attrs = {'class':'ellipsis rank02'})\n",
    "#     for j in range(len(singer)):\n",
    "#         singer_name = singer[j].get_text()\n",
    "#     print(i,singer_name)\n",
    "#        print(int((i/2+1)),':',song_title)\n",
    " \n"
   ]
  },
  {
   "cell_type": "markdown",
   "id": "0f15562b",
   "metadata": {},
   "source": [
    "## 앨범 명 넣기 마저 확인"
   ]
  },
  {
   "cell_type": "markdown",
   "id": "4856007d",
   "metadata": {},
   "source": [
    "# [연습-2]"
   ]
  },
  {
   "cell_type": "markdown",
   "id": "2076a20c",
   "metadata": {},
   "source": [
    "* 2) 네이버에서 이미지를 검색한 후 나온 결과 중 5개의 이미지를 저장\n",
    "    * 자바 스크립트로 인해 기존 방식으로 진행시 이미지 호출 불가"
   ]
  },
  {
   "cell_type": "markdown",
   "id": "aa70ad46",
   "metadata": {},
   "source": [
    "<pre>\n",
    "셀레늄 다운로드\n",
    "pip install selenium\n",
    "셀레늄 다운로드 상태, 버전 확인\n",
    "pip show selenium\n",
    "</pre>"
   ]
  },
  {
   "cell_type": "markdown",
   "id": "3cd23760",
   "metadata": {},
   "source": [
    "<pre>\n",
    "구글에서 'chrome://version' 확인\n",
    "chromedriver 검색 후 버전에 맞는 파일 다운 및 압축 해제(작업환경에 압축 해제 권유)\n",
    "</pre>"
   ]
  },
  {
   "cell_type": "code",
   "execution_count": 13,
   "id": "59e5e49f",
   "metadata": {},
   "outputs": [],
   "source": [
    "import requests\n",
    "import os\n",
    "import time\n",
    "\n",
    "from bs4 import BeautifulSoup\n",
    "from selenium import webdriver"
   ]
  },
  {
   "cell_type": "code",
   "execution_count": 14,
   "id": "73a3144b",
   "metadata": {},
   "outputs": [],
   "source": [
    "URL = \"https://search.naver.com/search.naver?where=image&sm=tab_jum&query=%EA%B3%A0%EA%B8%B0\"\n",
    "headers = {'User-Agent' : 'Mozilla/5.0 (Windows NT 10.0; Win64; x64) AppleWebKit/537.36 (KHTML, like Gecko) Chrome/95.0.4638.69 Safari/537.36'}"
   ]
  },
  {
   "cell_type": "code",
   "execution_count": 15,
   "id": "dd970a32",
   "metadata": {},
   "outputs": [],
   "source": [
    "# 셀레늄 이용하여 특정사이트 이동\n",
    "driver = webdriver.Chrome()\n",
    "driver.get(URL)\n",
    "# 이동 후 1초간 대기\n",
    "time.sleep(1)"
   ]
  },
  {
   "cell_type": "code",
   "execution_count": 16,
   "id": "0e681134",
   "metadata": {},
   "outputs": [],
   "source": [
    "# soup = BeautifulSoup(response.text, 'lxml') # 내부 파서 사용(html.parser) (lxml하고 동일)\n",
    "soup = BeautifulSoup(driver.page_source) # 셀레늄으로 특정사이트 이동 후 내용 다시 긁어오기\n",
    "\n",
    "\n",
    "\n",
    "# print(soup)\n",
    "\n",
    "# 웹 확인용\n",
    "# with open('bts.html','w',encoding = 'utf-8') as f:\n",
    "#     f.write(response.text)\n",
    "\n",
    "# print('a')"
   ]
  },
  {
   "cell_type": "code",
   "execution_count": 18,
   "id": "7ee0da22",
   "metadata": {},
   "outputs": [
    {
     "name": "stdout",
     "output_type": "stream",
     "text": [
      "그림 갯수 : 48\n"
     ]
    }
   ],
   "source": [
    "meats_img = soup.find_all('img', attrs = {'class':\"_image _listImage\"})\n",
    "print(\"그림 갯수 :\", len(meats_img)) # 첫 화면에 보이는 이미지 갯수 -> 실제로는 스크롤할수록 계속 나옴"
   ]
  },
  {
   "cell_type": "code",
   "execution_count": 20,
   "id": "b883317c",
   "metadata": {},
   "outputs": [
    {
     "name": "stdout",
     "output_type": "stream",
     "text": [
      "폴더 생성\n"
     ]
    }
   ],
   "source": [
    "img_dir = './meats_img/'\n",
    "# 폴더 생성, 폴더명 중복시 생성 안함\n",
    "if not os.path.exists(img_dir):\n",
    "    os.makedirs(img_dir)\n",
    "    print(\"폴더 생성\")\n",
    "else:\n",
    "    print(\"폴더 존재\")"
   ]
  },
  {
   "cell_type": "code",
   "execution_count": 33,
   "id": "990da8d5",
   "metadata": {
    "scrolled": true
   },
   "outputs": [
    {
     "name": "stdout",
     "output_type": "stream",
     "text": [
      "<Response [200]>\n",
      "<Response [200]>\n",
      "<Response [200]>\n",
      "<Response [200]>\n",
      "<Response [200]>\n",
      "<Response [200]>\n",
      "<Response [200]>\n",
      "<Response [200]>\n",
      "<Response [200]>\n",
      "사진 저장 완료\n"
     ]
    }
   ],
   "source": [
    "for i, image in enumerate(meats_img):\n",
    "    img_url = image['src'] # 이미지 소스 호출\n",
    "    \n",
    "    if not (img_url.startswith('http')):\n",
    "        continue\n",
    "    \n",
    "    img_src = requests.get(img_url, headers = headers)\n",
    "    img_src.raise_for_status()\n",
    "\n",
    "    with open(img_dir + 'meats_{}.jpg'.format(i),'wb') as f:\n",
    "       # print(img_src)\n",
    "        f.write(img_src.content)\n",
    "        if i >= 10: \n",
    "            break\n",
    "\n",
    "print('사진 저장 완료')"
   ]
  },
  {
   "cell_type": "code",
   "execution_count": 32,
   "id": "77e5a658",
   "metadata": {},
   "outputs": [
    {
     "name": "stdout",
     "output_type": "stream",
     "text": [
      "True\n",
      "True\n",
      "True\n",
      "False\n"
     ]
    }
   ],
   "source": [
    "# 내용에 해당 문구 있는지 확인\n",
    "# .startswith(\"해당 문구\") -> 해당 문구로 시작하는지 확인\n",
    "# .endswith(\"해당 문구\") -> 해당 문구로 끝나는지 확인\n",
    "\n",
    "temp1 = \"http://www.naver.com\"\n",
    "temp2 = \"http://www.daum.net\"\n",
    "\n",
    "print(temp1.startswith('http'))\n",
    "print(temp2.startswith('http'))\n",
    "print(temp1.endswith('com'))\n",
    "print(temp2.endswith('com'))"
   ]
  }
 ],
 "metadata": {
  "kernelspec": {
   "display_name": "Python 3",
   "language": "python",
   "name": "python3"
  },
  "language_info": {
   "codemirror_mode": {
    "name": "ipython",
    "version": 3
   },
   "file_extension": ".py",
   "mimetype": "text/x-python",
   "name": "python",
   "nbconvert_exporter": "python",
   "pygments_lexer": "ipython3",
   "version": "3.8.8"
  },
  "toc": {
   "base_numbering": 1,
   "nav_menu": {},
   "number_sections": true,
   "sideBar": true,
   "skip_h1_title": false,
   "title_cell": "Table of Contents",
   "title_sidebar": "Contents",
   "toc_cell": false,
   "toc_position": {},
   "toc_section_display": true,
   "toc_window_display": false
  },
  "varInspector": {
   "cols": {
    "lenName": 16,
    "lenType": 16,
    "lenVar": 40
   },
   "kernels_config": {
    "python": {
     "delete_cmd_postfix": "",
     "delete_cmd_prefix": "del ",
     "library": "var_list.py",
     "varRefreshCmd": "print(var_dic_list())"
    },
    "r": {
     "delete_cmd_postfix": ") ",
     "delete_cmd_prefix": "rm(",
     "library": "var_list.r",
     "varRefreshCmd": "cat(var_dic_list()) "
    }
   },
   "types_to_exclude": [
    "module",
    "function",
    "builtin_function_or_method",
    "instance",
    "_Feature"
   ],
   "window_display": false
  }
 },
 "nbformat": 4,
 "nbformat_minor": 5
}
